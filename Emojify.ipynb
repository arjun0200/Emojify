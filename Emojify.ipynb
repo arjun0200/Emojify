{
  "nbformat": 4,
  "nbformat_minor": 0,
  "metadata": {
    "colab": {
      "provenance": [],
      "collapsed_sections": []
    },
    "kernelspec": {
      "name": "python3",
      "display_name": "Python 3"
    },
    "language_info": {
      "name": "python"
    }
  },
  "cells": [
    {
      "cell_type": "markdown",
      "source": [
        "* In many emoji interfaces, we need to remember that ❤️  is the \"heart\" symbol rather than the \"love\" symbol. \n",
        "* In other words, we'll have to remember to type \"heart\" to find the desired emoji, and typing \"love\" won't bring up that symbol.\n",
        "* We can make a more flexible emoji interface by using word vectors!\n",
        "* When using word vectors, we'll see that even if our training set explicitly relates only a few words to a particular emoji, our algorithm will be able to generalize and associate additional words in the test set to the same emoji.\n"
      ],
      "metadata": {
        "id": "J3SzKMPq1luH"
      }
    },
    {
      "cell_type": "code",
      "execution_count": null,
      "metadata": {
        "id": "cGu4bIJGU3fA"
      },
      "outputs": [],
      "source": [
        "%cd /content/drive/MyDrive/Emojify/Files/Emoji"
      ]
    },
    {
      "cell_type": "code",
      "source": [
        "#!pip install emoji"
      ],
      "metadata": {
        "id": "OflQOUmRV_Ie"
      },
      "execution_count": 124,
      "outputs": []
    },
    {
      "cell_type": "markdown",
      "source": [
        "#Emoji V1 Baseline Model"
      ],
      "metadata": {
        "id": "WbrnkquRvRhz"
      }
    },
    {
      "cell_type": "code",
      "source": [
        "import csv\n",
        "import numpy as np\n",
        "import emoji\n",
        "import pandas as pd\n",
        "import matplotlib.pyplot as plt\n",
        "from sklearn.metrics import confusion_matrix\n"
      ],
      "metadata": {
        "id": "nwYIY2q8Vp-v"
      },
      "execution_count": 6,
      "outputs": []
    },
    {
      "cell_type": "code",
      "source": [
        "# defining methods\n",
        "def softmax(x):\n",
        "    \"\"\"Compute softmax values for each sets of scores in x.\"\"\"\n",
        "    e_x = np.exp(x - np.max(x))\n",
        "    return e_x / e_x.sum()\n",
        "\n",
        "\n",
        "def read_csv(filename = 'data/emojify_data.csv'):\n",
        "    phrase = []\n",
        "    emoji = []\n",
        "\n",
        "    with open (filename) as csvDataFile:\n",
        "        csvReader = csv.reader(csvDataFile)\n",
        "\n",
        "        for row in csvReader:\n",
        "            phrase.append(row[0])\n",
        "            emoji.append(row[1])\n",
        "\n",
        "    X = np.asarray(phrase)\n",
        "    Y = np.asarray(emoji, dtype=int)\n",
        "\n",
        "    return X, Y\n",
        "\n",
        "              \n",
        "    \n",
        "def print_predictions(X, pred):\n",
        "    print()\n",
        "    for i in range(X.shape[0]):\n",
        "        print(X[i], label_to_emoji(int(pred[i])))\n",
        "        \n",
        "        \n",
        "def plot_confusion_matrix(y_actu, y_pred, title='Confusion matrix', cmap=plt.cm.gray_r):\n",
        "    \n",
        "    df_confusion = pd.crosstab(y_actu, y_pred.reshape(y_pred.shape[0],), rownames=['Actual'], colnames=['Predicted'], margins=True)\n",
        "    \n",
        "    df_conf_norm = df_confusion / df_confusion.sum(axis=1)\n",
        "    \n",
        "    plt.matshow(df_confusion, cmap=cmap) # imshow\n",
        "    #plt.title(title)\n",
        "    plt.colorbar()\n",
        "    tick_marks = np.arange(len(df_confusion.columns))\n",
        "    plt.xticks(tick_marks, df_confusion.columns, rotation=45)\n",
        "    plt.yticks(tick_marks, df_confusion.index)\n",
        "    #plt.tight_layout()\n",
        "    plt.ylabel(df_confusion.index.name)\n",
        "    plt.xlabel(df_confusion.columns.name)\n",
        "    \n",
        "    \n",
        "    \n",
        "def predict(X, Y, W, b, word_to_vec_map):\n",
        "    \"\"\"\n",
        "    Given X (sentences) and Y (emoji indices), predict emojis and compute the accuracy of your model over the given set.\n",
        "    \n",
        "    Arguments:\n",
        "    X -- input data containing sentences, numpy array of shape (m, None)\n",
        "    Y -- labels, containing index of the label emoji, numpy array of shape (m, 1)\n",
        "    \n",
        "    Returns:\n",
        "    pred -- numpy array of shape (m, 1) with your predictions\n",
        "    \"\"\"\n",
        "    m = X.shape[0]\n",
        "    pred = np.zeros((m, 1))\n",
        "    any_word = list(word_to_vec_map.keys())[0]\n",
        "    # number of classes  \n",
        "    n_h = word_to_vec_map[any_word].shape[0] \n",
        "    \n",
        "    for j in range(m):                       # Loop over training examples\n",
        "        \n",
        "        # Split jth test example (sentence) into list of lower case words\n",
        "        words = X[j].lower().split()\n",
        "        \n",
        "        # Average words' vectors\n",
        "        avg = np.zeros((n_h,))\n",
        "        count = 0\n",
        "        for w in words:\n",
        "            if w in word_to_vec_map:\n",
        "                avg += word_to_vec_map[w]\n",
        "                count += 1\n",
        "        \n",
        "        if count > 0:\n",
        "            avg = avg / count\n",
        "\n",
        "        # Forward propagation\n",
        "        Z = np.dot(W, avg) + b\n",
        "        A = softmax(Z)\n",
        "        pred[j] = np.argmax(A)\n",
        "        \n",
        "    print(\"Accuracy: \"  + str(np.mean((pred[:] == Y.reshape(Y.shape[0],1)[:]))))\n",
        "    \n",
        "    return pred"
      ],
      "metadata": {
        "id": "VjgEISFKV4Pk"
      },
      "execution_count": 37,
      "outputs": []
    },
    {
      "cell_type": "code",
      "source": [
        "from termcolor import colored\n",
        "\n",
        "from tensorflow.keras.layers import Input\n",
        "from tensorflow.keras.layers import Conv2D\n",
        "from tensorflow.keras.layers import MaxPooling2D\n",
        "from tensorflow.keras.layers import Dropout \n",
        "from tensorflow.keras.layers import Conv2DTranspose\n",
        "from tensorflow.keras.layers import concatenate\n",
        "from tensorflow.keras.layers import ZeroPadding2D\n",
        "from tensorflow.keras.layers import Dense\n",
        "from tensorflow.keras.layers import LSTM\n",
        "from tensorflow.keras.layers import RepeatVector\n"
      ],
      "metadata": {
        "id": "HKmLZ1wkVsQU"
      },
      "execution_count": 35,
      "outputs": []
    },
    {
      "cell_type": "code",
      "source": [
        "# defining methods\n",
        "# Compare the two inputs\n",
        "def comparator(learner, instructor):\n",
        "    for a, b in zip(learner, instructor):\n",
        "        if tuple(a) != tuple(b):\n",
        "            print(colored(\"Test failed\", attrs=['bold']),\n",
        "                  \"\\n Expected value \\n\\n\", colored(f\"{b}\", \"green\"), \n",
        "                  \"\\n\\n does not match the input value: \\n\\n\", \n",
        "                  colored(f\"{a}\", \"red\"))\n",
        "            raise AssertionError(\"Error in test\") \n",
        "    print(colored(\"All tests passed!\", \"green\"))\n",
        "\n",
        "# extracts the description of a given model\n",
        "def summary(model):\n",
        "    model.compile(optimizer='adam',\n",
        "                  loss='categorical_crossentropy',\n",
        "                  metrics=['accuracy'])\n",
        "    result = []\n",
        "    for layer in model.layers:\n",
        "        descriptors = [layer.__class__.__name__, layer.output_shape, layer.count_params()]\n",
        "        if (type(layer) == Conv2D):\n",
        "            descriptors.append(layer.padding)\n",
        "            descriptors.append(layer.activation.__name__)\n",
        "            descriptors.append(layer.kernel_initializer.__class__.__name__)\n",
        "        if (type(layer) == MaxPooling2D):\n",
        "            descriptors.append(layer.pool_size)\n",
        "            descriptors.append(layer.strides)\n",
        "            descriptors.append(layer.padding)\n",
        "        if (type(layer) == Dropout):\n",
        "            descriptors.append(layer.rate)\n",
        "        if (type(layer) == ZeroPadding2D):\n",
        "            descriptors.append(layer.padding)\n",
        "        if (type(layer) == Dense):\n",
        "            descriptors.append(layer.activation.__name__)\n",
        "        if (type(layer) == LSTM):\n",
        "            descriptors.append(layer.input_shape)\n",
        "            descriptors.append(layer.activation.__name__)\n",
        "            descriptors.append(layer.return_sequences)\n",
        "        if (type(layer) == RepeatVector):\n",
        "            descriptors.append(layer.n)\n",
        "        result.append(descriptors)\n",
        "    return result\n"
      ],
      "metadata": {
        "id": "BeoKGib5WUy6"
      },
      "execution_count": 121,
      "outputs": []
    },
    {
      "cell_type": "code",
      "source": [
        "import numpy as np\n",
        "from emo_utils import *\n",
        "import emoji\n",
        "import matplotlib.pyplot as plt\n",
        "from test_utils import *\n",
        "\n",
        "%matplotlib inline"
      ],
      "metadata": {
        "id": "fEND5ZAhWk75"
      },
      "execution_count": 30,
      "outputs": []
    },
    {
      "cell_type": "code",
      "source": [
        "X_train, Y_train = read_csv('data/train_emoji.csv')\n",
        "X_test, Y_test = read_csv('data/tesss.csv')"
      ],
      "metadata": {
        "id": "zrnpBF7ZWwMI"
      },
      "execution_count": 31,
      "outputs": []
    },
    {
      "cell_type": "code",
      "source": [
        "maxLen = len(max(X_train, key=len).split())  # return its biggest word in the train set"
      ],
      "metadata": {
        "id": "-bPw6df7W2nc"
      },
      "execution_count": 32,
      "outputs": []
    },
    {
      "cell_type": "code",
      "source": [
        "emoji_dictionary = {\"0\": \"\\u2764\\uFE0F\",    # :heart: prints a black instead of red heart depending on the font\n",
        "                    \"1\": \":baseball:\",\n",
        "                    \"2\": \":smile:\",\n",
        "                    \"3\": \":disappointed:\",\n",
        "                    \"4\": \":fork_and_knife:\"}\n",
        "\n",
        "def label_to_emoji(label):\n",
        "    \"\"\"\n",
        "    Converts a label (int or string) into the corresponding emoji code (string) ready to be printed\n",
        "    \"\"\"\n",
        "    return emoji.emojize(emoji_dictionary[str(label)], language='alias')\n"
      ],
      "metadata": {
        "id": "A2SUlEOyZWo1"
      },
      "execution_count": 53,
      "outputs": []
    },
    {
      "cell_type": "code",
      "source": [
        "for idx in range(10):\n",
        "    print(X_train[idx], label_to_emoji(Y_train[idx]))"
      ],
      "metadata": {
        "colab": {
          "base_uri": "https://localhost:8080/"
        },
        "id": "XZJE1D4wXi71",
        "outputId": "e99dab52-d906-4aff-ac39-3b6e7cfcb2d6"
      },
      "execution_count": 54,
      "outputs": [
        {
          "output_type": "stream",
          "name": "stdout",
          "text": [
            "never talk to me again 😞\n",
            "I am proud of your achievements 😄\n",
            "It is the worst day in my life 😞\n",
            "Miss you so much ❤️\n",
            "food is life 🍴\n",
            "I love you mum ❤️\n",
            "Stop saying bullshit 😞\n",
            "congratulations on your acceptance 😄\n",
            "The assignment is too long  😞\n",
            "I want to go play ⚾\n"
          ]
        }
      ]
    },
    {
      "cell_type": "markdown",
      "source": [
        "#### One-hot Encoding\n",
        "* To get our labels into a format suitable for training a softmax classifier, convert $Y$ from its current shape  $(m, 1)$ into a \"one-hot representation\" $(m, 5)$, \n",
        "    * Each row is a one-hot vector giving the label of one example.\n",
        "    * Here, `Y_oh` stands for \"Y-one-hot\" in the variable names `Y_oh_train` and `Y_oh_test`: "
      ],
      "metadata": {
        "id": "bHo1qh8rbt8w"
      }
    },
    {
      "cell_type": "code",
      "source": [
        "def convert_to_one_hot(Y, C):\n",
        "    Y = np.eye(C)[Y.reshape(-1)]\n",
        "    return Y\n"
      ],
      "metadata": {
        "id": "_iGq_8zIXnCr"
      },
      "execution_count": 56,
      "outputs": []
    },
    {
      "cell_type": "code",
      "source": [
        "Y_oh_train = convert_to_one_hot(Y_train, C = 5)  # probabilities between 5 emojis\n",
        "Y_oh_test = convert_to_one_hot(Y_test, C = 5) # probabilities between 5 emojis"
      ],
      "metadata": {
        "id": "RqbGR5Teb3-n"
      },
      "execution_count": 57,
      "outputs": []
    },
    {
      "cell_type": "code",
      "source": [
        "# checking\n",
        "idx = 20\n",
        "print(f\"Sentence '{X_train[idx]}' has label index {Y_train[idx]}, which is emoji {label_to_emoji(Y_train[idx])}\", )\n",
        "print(f\"Label index {Y_train[idx]} in one-hot encoding format is {Y_oh_train[idx]}\")"
      ],
      "metadata": {
        "colab": {
          "base_uri": "https://localhost:8080/"
        },
        "id": "byVRHeq9cCez",
        "outputId": "60377292-dc56-4117-bf1a-a310972e8b63"
      },
      "execution_count": 58,
      "outputs": [
        {
          "output_type": "stream",
          "name": "stdout",
          "text": [
            "Sentence 'So sad you are not coming' has label index 3, which is emoji 😞\n",
            "Label index 3 in one-hot encoding format is [0. 0. 0. 1. 0.]\n"
          ]
        }
      ]
    },
    {
      "cell_type": "markdown",
      "source": [
        "Implementing Emojifier"
      ],
      "metadata": {
        "id": "ql4HbZUochEL"
      }
    },
    {
      "cell_type": "code",
      "source": [
        "def read_glove_vecs(glove_file):\n",
        "    with open(glove_file, 'r') as f:\n",
        "        words = set()\n",
        "        word_to_vec_map = {}\n",
        "        for line in f:\n",
        "            line = line.strip().split()\n",
        "            curr_word = line[0]\n",
        "            words.add(curr_word)\n",
        "            word_to_vec_map[curr_word] = np.array(line[1:], dtype=np.float64)\n",
        "        \n",
        "        i = 1\n",
        "        words_to_index = {}\n",
        "        index_to_words = {}\n",
        "        for w in sorted(words):\n",
        "            words_to_index[w] = i\n",
        "            index_to_words[i] = w\n",
        "            i = i + 1\n",
        "    return words_to_index, index_to_words, word_to_vec_map\n"
      ],
      "metadata": {
        "id": "fVWKfhE_coIg"
      },
      "execution_count": 59,
      "outputs": []
    },
    {
      "cell_type": "code",
      "source": [
        "word_to_index, index_to_word, word_to_vec_map = read_glove_vecs('data/glove.6B.50d.txt')"
      ],
      "metadata": {
        "id": "U8nD8gd3cTIj"
      },
      "execution_count": 60,
      "outputs": []
    },
    {
      "cell_type": "code",
      "source": [
        "# checking\n",
        "word = \"cucumber\"\n",
        "idx = 222221\n",
        "print(\"the index of\", word, \"in the vocabulary is\", word_to_index[word])\n",
        "print(\"the\", str(idx) + \"th word in the vocabulary is\", index_to_word[idx])"
      ],
      "metadata": {
        "colab": {
          "base_uri": "https://localhost:8080/"
        },
        "id": "QXLtctX3cyao",
        "outputId": "d954c25d-f36d-4c9e-fab2-e06428efc846"
      },
      "execution_count": 70,
      "outputs": [
        {
          "output_type": "stream",
          "name": "stdout",
          "text": [
            "the index of cucumber in the vocabulary is 113317\n",
            "the 222221th word in the vocabulary is lifeways\n"
          ]
        }
      ]
    },
    {
      "cell_type": "code",
      "source": [
        "def sentence_to_avg(sentence, word_to_vec_map):\n",
        "    \"\"\"\n",
        "    Converts a sentence (string) into a list of words (strings). Extracts the GloVe representation of each word\n",
        "    and averages its value into a single vector encoding the meaning of the sentence.\n",
        "    \n",
        "    Arguments:\n",
        "    sentence -- string, one training example from X\n",
        "    word_to_vec_map -- dictionary mapping every word in a vocabulary into its 50-dimensional vector representation\n",
        "    \n",
        "    Returns:\n",
        "    avg -- average vector encoding information about the sentence, numpy-array of shape (J,), where J can be any number\n",
        "    \"\"\"\n",
        "    \n",
        "    any_word = list(word_to_vec_map.keys())[0]\n",
        "    \n",
        "\n",
        "    words = sentence.lower().split()\n",
        "\n",
        "    avg = np.zeros(word_to_vec_map[any_word].shape)\n",
        "    \n",
        "    count = 0\n",
        "    \n",
        "    for w in words:\n",
        "        if w in list(word_to_vec_map.keys()):\n",
        "            avg += word_to_vec_map[w]\n",
        "            count +=1\n",
        "          \n",
        "    if count > 0:\n",
        "        avg = avg/count\n",
        "    \n",
        "    \n",
        "    return avg"
      ],
      "metadata": {
        "id": "lja9bYXZdR5i"
      },
      "execution_count": 71,
      "outputs": []
    },
    {
      "cell_type": "code",
      "source": [
        "avg = sentence_to_avg(\"apple is my favorite fruit\", word_to_vec_map)\n",
        "print(\"avg = \\n\", avg)"
      ],
      "metadata": {
        "colab": {
          "base_uri": "https://localhost:8080/"
        },
        "id": "VUbkAAMHgkZF",
        "outputId": "0332e9b2-ab60-447a-9704-c1457b7c1e07"
      },
      "execution_count": 73,
      "outputs": [
        {
          "output_type": "stream",
          "name": "stdout",
          "text": [
            "avg = \n",
            " [ 0.21296     0.391628   -0.319268    0.340818    0.706772    0.264478\n",
            " -0.78395522 -0.31865     0.19059     0.3842884  -0.1490762   0.264998\n",
            "  0.2665602  -0.1500686   0.527248    0.1989614  -0.3468122   0.37209\n",
            "  0.192742   -0.69719    -0.1392     -0.20795     0.4831206   0.32725472\n",
            "  0.332304   -1.2306576  -0.75813802  0.484426    0.5762132  -0.4573728\n",
            "  2.80088    -0.017388   -0.374836    0.392426    0.177546   -0.049164\n",
            " -0.409348    0.606262    0.137744   -0.7079588   0.1196754   0.017336\n",
            " -0.756722    0.0044998   0.5523602   0.371164    0.0778688  -0.486936\n",
            "  0.1013606   0.176972  ]\n"
          ]
        }
      ]
    },
    {
      "cell_type": "code",
      "source": [
        "def model(X, Y, word_to_vec_map, learning_rate = 0.01, num_iterations = 400):\n",
        "    \"\"\"\n",
        "    Model to train word vector representations in numpy.\n",
        "    \n",
        "    Arguments:\n",
        "    X -- input data, numpy array of sentences as strings, of shape (m,)\n",
        "    Y -- labels, numpy array of integers between 0 and 7, numpy-array of shape (m, 1)\n",
        "    word_to_vec_map -- dictionary mapping every word in a vocabulary into its 50-dimensional vector representation\n",
        "    learning_rate -- learning_rate for the stochastic gradient descent algorithm\n",
        "    num_iterations -- number of iterations\n",
        "    \n",
        "    Returns:\n",
        "    pred -- vector of predictions, numpy-array of shape (m, 1)\n",
        "    W -- weight matrix of the softmax layer, of shape (n_y, n_h)\n",
        "    b -- bias of the softmax layer, of shape (n_y,)\n",
        "    \"\"\"\n",
        "    \n",
        "    any_word = list(word_to_vec_map.keys())[0]\n",
        "        \n",
        "    m = Y.shape[0]                             # number of training examples\n",
        "    n_y = len(np.unique(Y))                    # number of classes  \n",
        "    n_h = word_to_vec_map[any_word].shape[0]   # dimensions of the GloVe vectors \n",
        "    \n",
        "    # Initialize parameters using Xavier initialization\n",
        "    W = np.random.randn(n_y, n_h) / np.sqrt(n_h)\n",
        "    b = np.zeros((n_y,))\n",
        "    \n",
        "    # Convert Y to Y_onehot with n_y classes\n",
        "    Y_oh = convert_to_one_hot(Y, C = n_y) \n",
        "    \n",
        "    # Optimization loop\n",
        "    for t in range(num_iterations): # Loop over the number of iterations\n",
        "        \n",
        "        cost = 0\n",
        "        dW = 0\n",
        "        db = 0\n",
        "        \n",
        "        for i in range(m):          # Looping over the training examples\n",
        "            \n",
        "            # Average the word vectors of the words from the i'th training example\n",
        "            avg = sentence_to_avg(X[i], word_to_vec_map)\n",
        "\n",
        "            # Forward propagate the avg through the softmax layer. \n",
        "            # we use np.dot() to perform the multiplication.\n",
        "            z = np.add(np.dot(W,avg),b)\n",
        "            a = softmax(z)\n",
        "\n",
        "            # Add the cost using the i'th training label's one hot representation and \"A\" (the output of the softmax)\n",
        "            cost += -np.sum(np.dot(Y_oh[i], np.log(a)))\n",
        "            ### END CODE HERE ###\n",
        "            \n",
        "            # Computing gradients for back propagation\n",
        "            dz = a - Y_oh[i]\n",
        "            dW += np.dot(dz.reshape(n_y,1), avg.reshape(1, n_h))\n",
        "            db += dz\n",
        "\n",
        "            # Updating parameters with Stochastic Gradient Descent\n",
        "            W = W - learning_rate * dW\n",
        "            b = b - learning_rate * db\n",
        "        \n",
        "        if t % 100 == 0:\n",
        "            print(\"Epoch: \" + str(t) + \" --- cost = \" + str(cost))\n",
        "            pred = predict(X, Y, W, b, word_to_vec_map) # predict define upper \n",
        "\n",
        "    return pred, W, b"
      ],
      "metadata": {
        "id": "qGV1VMzTgpbn"
      },
      "execution_count": 74,
      "outputs": []
    },
    {
      "cell_type": "code",
      "source": [
        "# training of model and learning softmax parameters (W,b)\n",
        "np.random.seed(1)\n",
        "pred, W, b = model(X_train, Y_train, word_to_vec_map)\n",
        "print(pred)"
      ],
      "metadata": {
        "colab": {
          "base_uri": "https://localhost:8080/"
        },
        "id": "v_wUlpt9husG",
        "outputId": "1ea86ae4-56b4-42b6-ff4b-effa77a12d4f"
      },
      "execution_count": 75,
      "outputs": [
        {
          "output_type": "stream",
          "name": "stdout",
          "text": [
            "Epoch: 0 --- cost = 410.4336578831472\n",
            "Accuracy: 0.5454545454545454\n",
            "Epoch: 100 --- cost = 33.00222444994482\n",
            "Accuracy: 0.9393939393939394\n",
            "Epoch: 200 --- cost = 0.8687252705274872\n",
            "Accuracy: 1.0\n",
            "Epoch: 300 --- cost = 0.36158874352675396\n",
            "Accuracy: 1.0\n",
            "[[3.]\n",
            " [2.]\n",
            " [3.]\n",
            " [0.]\n",
            " [4.]\n",
            " [0.]\n",
            " [3.]\n",
            " [2.]\n",
            " [3.]\n",
            " [1.]\n",
            " [3.]\n",
            " [3.]\n",
            " [1.]\n",
            " [3.]\n",
            " [2.]\n",
            " [3.]\n",
            " [2.]\n",
            " [3.]\n",
            " [1.]\n",
            " [2.]\n",
            " [3.]\n",
            " [0.]\n",
            " [2.]\n",
            " [2.]\n",
            " [2.]\n",
            " [1.]\n",
            " [4.]\n",
            " [2.]\n",
            " [2.]\n",
            " [4.]\n",
            " [0.]\n",
            " [3.]\n",
            " [4.]\n",
            " [2.]\n",
            " [0.]\n",
            " [3.]\n",
            " [2.]\n",
            " [2.]\n",
            " [3.]\n",
            " [4.]\n",
            " [2.]\n",
            " [2.]\n",
            " [0.]\n",
            " [2.]\n",
            " [3.]\n",
            " [0.]\n",
            " [3.]\n",
            " [2.]\n",
            " [4.]\n",
            " [3.]\n",
            " [0.]\n",
            " [3.]\n",
            " [3.]\n",
            " [3.]\n",
            " [4.]\n",
            " [2.]\n",
            " [1.]\n",
            " [1.]\n",
            " [1.]\n",
            " [2.]\n",
            " [3.]\n",
            " [1.]\n",
            " [0.]\n",
            " [0.]\n",
            " [0.]\n",
            " [3.]\n",
            " [4.]\n",
            " [4.]\n",
            " [2.]\n",
            " [2.]\n",
            " [1.]\n",
            " [2.]\n",
            " [0.]\n",
            " [3.]\n",
            " [2.]\n",
            " [2.]\n",
            " [0.]\n",
            " [0.]\n",
            " [3.]\n",
            " [1.]\n",
            " [2.]\n",
            " [1.]\n",
            " [2.]\n",
            " [2.]\n",
            " [4.]\n",
            " [3.]\n",
            " [3.]\n",
            " [2.]\n",
            " [4.]\n",
            " [0.]\n",
            " [0.]\n",
            " [0.]\n",
            " [3.]\n",
            " [3.]\n",
            " [3.]\n",
            " [2.]\n",
            " [0.]\n",
            " [1.]\n",
            " [2.]\n",
            " [3.]\n",
            " [0.]\n",
            " [2.]\n",
            " [2.]\n",
            " [2.]\n",
            " [3.]\n",
            " [2.]\n",
            " [2.]\n",
            " [2.]\n",
            " [4.]\n",
            " [1.]\n",
            " [1.]\n",
            " [3.]\n",
            " [3.]\n",
            " [4.]\n",
            " [1.]\n",
            " [2.]\n",
            " [1.]\n",
            " [1.]\n",
            " [3.]\n",
            " [1.]\n",
            " [0.]\n",
            " [4.]\n",
            " [0.]\n",
            " [3.]\n",
            " [3.]\n",
            " [4.]\n",
            " [4.]\n",
            " [1.]\n",
            " [4.]\n",
            " [3.]\n",
            " [0.]\n",
            " [2.]]\n"
          ]
        }
      ]
    },
    {
      "cell_type": "code",
      "source": [
        "#predicting\n",
        "print(\"Training set:\")\n",
        "pred_train = predict(X_train, Y_train, W, b, word_to_vec_map)\n",
        "print('Test set:')\n",
        "pred_test = predict(X_test, Y_test, W, b, word_to_vec_map)"
      ],
      "metadata": {
        "colab": {
          "base_uri": "https://localhost:8080/"
        },
        "id": "M1Qd8aXgh_NA",
        "outputId": "e42e9f5a-5393-41b5-85f6-ceba6e0321c0"
      },
      "execution_count": 85,
      "outputs": [
        {
          "output_type": "stream",
          "name": "stdout",
          "text": [
            "Training set:\n",
            "Accuracy: 1.0\n",
            "Test set:\n",
            "Accuracy: 0.9107142857142857\n"
          ]
        }
      ]
    },
    {
      "cell_type": "code",
      "source": [
        "X_my_sentences = np.array([\"i cherish you\", \"i love you\", \"funny lol\", \"lets play with a ball\", \"food is ready\", \"not feeling happy\"])\n",
        "\n",
        "print_predictions(X_my_sentences, pred)"
      ],
      "metadata": {
        "colab": {
          "base_uri": "https://localhost:8080/"
        },
        "id": "mWHhR3iCuXcr",
        "outputId": "f3eeafaf-296f-41a2-dd26-f3135307afc6"
      },
      "execution_count": 87,
      "outputs": [
        {
          "output_type": "stream",
          "name": "stdout",
          "text": [
            "\n",
            "i cherish you 😄\n",
            "i love you ❤️\n",
            "funny lol 😄\n",
            "lets play with a ball ⚾\n",
            "food is ready 🍴\n",
            "not feeling happy 😞\n"
          ]
        }
      ]
    },
    {
      "cell_type": "code",
      "source": [
        "# confusion matrix\n",
        "print(Y_test.shape)\n",
        "print('           '+ label_to_emoji(0)+ '    ' + label_to_emoji(1) + '    ' +  label_to_emoji(2)+ '    ' + label_to_emoji(3)+'   ' + label_to_emoji(4))\n",
        "print(pd.crosstab(Y_test, pred_test.reshape(56,), rownames=['Actual'], colnames=['Predicted'], margins=True))\n",
        "plot_confusion_matrix(Y_test, pred_test)"
      ],
      "metadata": {
        "colab": {
          "base_uri": "https://localhost:8080/",
          "height": 437
        },
        "id": "3Rm9iEKLuCvi",
        "outputId": "c90b5c49-6aac-4774-efb8-4c61e0f925a4"
      },
      "execution_count": 88,
      "outputs": [
        {
          "output_type": "stream",
          "name": "stdout",
          "text": [
            "(56,)\n",
            "           ❤️    ⚾    😄    😞   🍴\n",
            "Predicted  0.0  1.0  2.0  3.0  4.0  All\n",
            "Actual                                 \n",
            "0            6    0    0    1    0    7\n",
            "1            0    8    0    0    0    8\n",
            "2            1    0   17    0    0   18\n",
            "3            1    0    2   13    0   16\n",
            "4            0    0    0    0    7    7\n",
            "All          8    8   19   14    7   56\n"
          ]
        },
        {
          "output_type": "display_data",
          "data": {
            "text/plain": [
              "<Figure size 288x288 with 2 Axes>"
            ],
            "image/png": "[encoded data removed]"
          },
          "metadata": {
            "needs_background": "light"
          }
        }
      ]
    },
    {
      "cell_type": "markdown",
      "source": [
        "#Emojifier-V2: Using LSTMs in Keras"
      ],
      "metadata": {
        "id": "SpxFxXFlvKv9"
      }
    },
    {
      "cell_type": "code",
      "source": [
        "import numpy as np\n",
        "import tensorflow\n",
        "np.random.seed(0)\n",
        "from tensorflow.keras.models import Model\n",
        "from tensorflow.keras.layers import Dense, Input, Dropout, LSTM, Activation\n",
        "from tensorflow.keras.layers import Embedding\n",
        "from tensorflow.keras.preprocessing import sequence\n",
        "from tensorflow.keras.initializers import glorot_uniform\n",
        "np.random.seed(1)"
      ],
      "metadata": {
        "id": "jYoyUUGavfpP"
      },
      "execution_count": 90,
      "outputs": []
    },
    {
      "cell_type": "code",
      "source": [
        "for idx, val in enumerate([\"I\", \"like\", \"learning\"]):\n",
        "    print(idx, val)"
      ],
      "metadata": {
        "colab": {
          "base_uri": "https://localhost:8080/"
        },
        "id": "O4nK2n4Hvk_D",
        "outputId": "cee5b79b-e4c6-4400-f5fa-f5c5010cb0e6"
      },
      "execution_count": 91,
      "outputs": [
        {
          "output_type": "stream",
          "name": "stdout",
          "text": [
            "0 I\n",
            "1 like\n",
            "2 learning\n"
          ]
        }
      ]
    },
    {
      "cell_type": "code",
      "source": [
        "def sentences_to_indices(X, word_to_index, max_len):\n",
        "    \"\"\"\n",
        "    Converts an array of sentences (strings) into an array of indices corresponding to words in the sentences.\n",
        "    The output shape should be such that it can be given to `Embedding()` (described in Figure 4). \n",
        "    \n",
        "    Arguments:\n",
        "    X -- array of sentences (strings), of shape (m,)\n",
        "    word_to_index -- a dictionary containing the each word mapped to its index\n",
        "    max_len -- maximum number of words in a sentence. You can assume every sentence in X is no longer than this. \n",
        "    \n",
        "    Returns:\n",
        "    X_indices -- array of indices corresponding to words in the sentences from X, of shape (m, max_len)\n",
        "    \"\"\"\n",
        "    \n",
        "    m = X.shape[0]                                   # number of training examples\n",
        "    \n",
        "    # Initialize X_indices as a numpy matrix of zeros and the correct shape\n",
        "    X_indices = np.zeros([m,max_len])\n",
        "    \n",
        "    for i in range(m):                               # loop over training examples\n",
        "        \n",
        "        # Convert the ith training sentence in lower case and split is into words. You should get a list of words.\n",
        "        sentence_words = X[i].lower().split()\n",
        "        \n",
        "        # Initialize j to 0\n",
        "        j = 0\n",
        "        \n",
        "        # Loop over the words of sentence_words\n",
        "\n",
        "        for w in sentence_words:\n",
        "            # if w exists in the word_to_index dictionary\n",
        "            if w in word_to_index:\n",
        "                # Setting the (i,j)th entry of X_indices to the index of the correct word.\n",
        "                X_indices[i, j] = word_to_index[w]\n",
        "                # Increment j to j + 1\n",
        "                j = j + 1\n",
        "            \n",
        "    \n",
        "    return X_indices"
      ],
      "metadata": {
        "id": "T1ByORL-vuzO"
      },
      "execution_count": 92,
      "outputs": []
    },
    {
      "cell_type": "code",
      "source": [
        "#checking\n",
        "X1 = np.array([\"funny lol\", \"lets play baseball\", \"food is ready for you\"])\n",
        "X1_indices = sentences_to_indices(X1, word_to_index, max_len=5)\n",
        "print(\"X1 =\", X1)\n",
        "print(\"X1_indices =\\n\", X1_indices)"
      ],
      "metadata": {
        "colab": {
          "base_uri": "https://localhost:8080/"
        },
        "id": "2l1Z23PcwF8Z",
        "outputId": "057cb175-99b8-4ac2-c95f-e6367c746aaa"
      },
      "execution_count": 93,
      "outputs": [
        {
          "output_type": "stream",
          "name": "stdout",
          "text": [
            "X1 = ['funny lol' 'lets play baseball' 'food is ready for you']\n",
            "X1_indices =\n",
            " [[155345. 225122.      0.      0.      0.]\n",
            " [220930. 286375.  69714.      0.      0.]\n",
            " [151204. 192973. 302254. 151349. 394475.]]\n"
          ]
        }
      ]
    },
    {
      "cell_type": "markdown",
      "source": [
        "###Build Embedding Layer\n"
      ],
      "metadata": {
        "id": "MLW1BTRBwecz"
      }
    },
    {
      "cell_type": "code",
      "source": [
        "def pretrained_embedding_layer(word_to_vec_map, word_to_index):\n",
        "    \"\"\"\n",
        "    Creates a Keras Embedding() layer and loads in pre-trained GloVe 50-dimensional vectors.\n",
        "    \n",
        "    Arguments:\n",
        "    word_to_vec_map -- dictionary mapping words to their GloVe vector representation.\n",
        "    word_to_index -- dictionary mapping from words to their indices in the vocabulary (400,001 words)\n",
        "\n",
        "    Returns:\n",
        "    embedding_layer -- pretrained layer Keras instance\n",
        "    \"\"\"\n",
        "    \n",
        "    vocab_size = len(word_to_index) + 1              # adding 1 to fit Keras embedding (requirement)\n",
        "    any_word = list(word_to_vec_map.keys())[0]\n",
        "    emb_dim = word_to_vec_map[any_word].shape[0]    # define dimensionality of your GloVe word vectors (= 50)\n",
        "      \n",
        "    # Initializing the embedding matrix as a numpy array of zeros.\n",
        "    emb_matrix = np.zeros([vocab_size, emb_dim])\n",
        "    \n",
        "    # Setting each row \"idx\" of the embedding matrix to be \n",
        "    # the word vector representation of the idx'th word of the vocabulary\n",
        "    for word, idx in word_to_index.items():\n",
        "        emb_matrix[idx, :] = word_to_vec_map[word]\n",
        "\n",
        "    # Define Keras embedding layer with the correct input and output sizes\n",
        "    # Make it non-trainable.\n",
        "    embedding_layer = Embedding(vocab_size, emb_dim ,trainable = False)\n",
        "\n",
        "    # Build the embedding layer, it is required before setting the weights of the embedding layer. \n",
        "    embedding_layer.build((None,))\n",
        "    \n",
        "    # Setting the weights of the embedding layer to the embedding matrix. Layer is now pretrained.\n",
        "    embedding_layer.set_weights([emb_matrix])\n",
        "    \n",
        "    return embedding_layer"
      ],
      "metadata": {
        "id": "R3acICIZwVtf"
      },
      "execution_count": 94,
      "outputs": []
    },
    {
      "cell_type": "code",
      "source": [
        "embedding_layer = pretrained_embedding_layer(word_to_vec_map, word_to_index)\n",
        "print(\"weights[0][1][1] =\", embedding_layer.get_weights()[0][1][1])\n",
        "print(\"Input_dim\", embedding_layer.input_dim)\n",
        "print(\"Output_dim\",embedding_layer.output_dim)"
      ],
      "metadata": {
        "colab": {
          "base_uri": "https://localhost:8080/"
        },
        "id": "219dmke_xbW-",
        "outputId": "71253780-f25a-4876-9325-0ea992c8bf1d"
      },
      "execution_count": 99,
      "outputs": [
        {
          "output_type": "stream",
          "name": "stdout",
          "text": [
            "weights[0][1][1] = 0.39031\n",
            "Input_dim 400001\n",
            "Output_dim 50\n"
          ]
        }
      ]
    },
    {
      "cell_type": "code",
      "source": [
        "def Emojify_V2(input_shape, word_to_vec_map, word_to_index):\n",
        "    \"\"\"\n",
        "    Function creating the Emojify-v2 model's graph.\n",
        "    \n",
        "    Arguments:\n",
        "    input_shape -- shape of the input, usually (max_len,)\n",
        "    word_to_vec_map -- dictionary mapping every word in a vocabulary into its 50-dimensional vector representation\n",
        "    word_to_index -- dictionary mapping from words to their indices in the vocabulary (400,001 words)\n",
        "\n",
        "    Returns:\n",
        "    model -- a model instance in Keras\n",
        "    \"\"\"\n",
        "    \n",
        "    # Defining sentence_indices as the input of the graph.\n",
        "    # It should be of shape input_shape and dtype 'int32' (as it contains indices, which are integers).\n",
        "    sentence_indices = Input(shape=input_shape,dtype='int32')\n",
        "    \n",
        "    embedding_layer = pretrained_embedding_layer(word_to_vec_map, word_to_index)\n",
        "    \n",
        "    # Propagating sentence_indices through your embedding layer\n",
        "    embeddings = embedding_layer(sentence_indices)   \n",
        "    \n",
        "    # Propagating the embeddings through an LSTM layer with 128-dimensional hidden state\n",
        "    # The returned output should be a batch of sequences.\n",
        "    X = LSTM(units=128, return_sequences = True)(embeddings)\n",
        "    # Adding dropout with a probability of 0.5\n",
        "    X = Dropout(0.5)(X) \n",
        "    # Propagating X trough another LSTM layer with 128-dimensional hidden state\n",
        "    # The returned output should be a single hidden state, not a batch of sequences.\n",
        "    X = LSTM(units=128, return_sequences = False)(X)\n",
        "    # Adding dropout with a probability of 0.5\n",
        "    X = Dropout(0.5)(X) \n",
        "    # Propagating X through a Dense layer with 5 units\n",
        "    X = Dense(5)(X)\n",
        "    # Adding a softmax activation\n",
        "    X = Activation('softmax')(X)\n",
        "    \n",
        "    # Creating Model instance which converts sentence_indices into X.\n",
        "    model = Model(inputs=sentence_indices,outputs=X)\n",
        "    \n",
        "    \n",
        "    return model"
      ],
      "metadata": {
        "id": "s_IASaZTxkXl"
      },
      "execution_count": 100,
      "outputs": []
    },
    {
      "cell_type": "code",
      "source": [
        "model = Emojify_V2((maxLen,), word_to_vec_map, word_to_index)\n",
        "model.summary()"
      ],
      "metadata": {
        "colab": {
          "base_uri": "https://localhost:8080/"
        },
        "id": "gfBZkwmVy0v0",
        "outputId": "3c861469-f86b-4b34-d2d8-81e173c591bc"
      },
      "execution_count": 101,
      "outputs": [
        {
          "output_type": "stream",
          "name": "stdout",
          "text": [
            "Model: \"model\"\n",
            "_________________________________________________________________\n",
            " Layer (type)                Output Shape              Param #   \n",
            "=================================================================\n",
            " input_1 (InputLayer)        [(None, 10)]              0         \n",
            "                                                                 \n",
            " embedding_5 (Embedding)     (None, 10, 50)            20000050  \n",
            "                                                                 \n",
            " lstm (LSTM)                 (None, 10, 128)           91648     \n",
            "                                                                 \n",
            " dropout (Dropout)           (None, 10, 128)           0         \n",
            "                                                                 \n",
            " lstm_1 (LSTM)               (None, 128)               131584    \n",
            "                                                                 \n",
            " dropout_1 (Dropout)         (None, 128)               0         \n",
            "                                                                 \n",
            " dense (Dense)               (None, 5)                 645       \n",
            "                                                                 \n",
            " activation (Activation)     (None, 5)                 0         \n",
            "                                                                 \n",
            "=================================================================\n",
            "Total params: 20,223,927\n",
            "Trainable params: 223,877\n",
            "Non-trainable params: 20,000,050\n",
            "_________________________________________________________________\n"
          ]
        }
      ]
    },
    {
      "cell_type": "code",
      "source": [
        "model.compile(loss='categorical_crossentropy', optimizer='adam', metrics=['accuracy'])"
      ],
      "metadata": {
        "id": "OsNaZqxdy4eY"
      },
      "execution_count": 102,
      "outputs": []
    },
    {
      "cell_type": "markdown",
      "source": [
        "##Training the model"
      ],
      "metadata": {
        "id": "ofIPCi-vzLjV"
      }
    },
    {
      "cell_type": "code",
      "source": [
        "X_train_indices = sentences_to_indices(X_train, word_to_index, maxLen)\n",
        "Y_train_oh = convert_to_one_hot(Y_train, C = 5)"
      ],
      "metadata": {
        "id": "c3HKl7GlzBAA"
      },
      "execution_count": 103,
      "outputs": []
    },
    {
      "cell_type": "code",
      "source": [
        "model.fit(X_train_indices, Y_train_oh, epochs = 50, batch_size = 32, shuffle=True)"
      ],
      "metadata": {
        "colab": {
          "base_uri": "https://localhost:8080/"
        },
        "id": "61-zBWqvzONL",
        "outputId": "719f5c7f-2e54-4e57-cac0-6100a3f50b57"
      },
      "execution_count": 104,
      "outputs": [
        {
          "output_type": "stream",
          "name": "stdout",
          "text": [
            "Epoch 1/50\n",
            "5/5 [==============================] - 3s 28ms/step - loss: 1.6250 - accuracy: 0.2121\n",
            "Epoch 2/50\n",
            "5/5 [==============================] - 0s 21ms/step - loss: 1.5160 - accuracy: 0.3712\n",
            "Epoch 3/50\n",
            "5/5 [==============================] - 0s 26ms/step - loss: 1.4588 - accuracy: 0.3939\n",
            "Epoch 4/50\n",
            "5/5 [==============================] - 0s 23ms/step - loss: 1.3984 - accuracy: 0.4015\n",
            "Epoch 5/50\n",
            "5/5 [==============================] - 0s 19ms/step - loss: 1.2887 - accuracy: 0.6061\n",
            "Epoch 6/50\n",
            "5/5 [==============================] - 0s 22ms/step - loss: 1.1665 - accuracy: 0.6591\n",
            "Epoch 7/50\n",
            "5/5 [==============================] - 0s 23ms/step - loss: 1.0563 - accuracy: 0.6364\n",
            "Epoch 8/50\n",
            "5/5 [==============================] - 0s 19ms/step - loss: 0.8959 - accuracy: 0.6970\n",
            "Epoch 9/50\n",
            "5/5 [==============================] - 0s 21ms/step - loss: 0.7944 - accuracy: 0.7121\n",
            "Epoch 10/50\n",
            "5/5 [==============================] - 0s 19ms/step - loss: 0.7157 - accuracy: 0.7500\n",
            "Epoch 11/50\n",
            "5/5 [==============================] - 0s 20ms/step - loss: 0.6196 - accuracy: 0.7652\n",
            "Epoch 12/50\n",
            "5/5 [==============================] - 0s 22ms/step - loss: 0.5318 - accuracy: 0.8106\n",
            "Epoch 13/50\n",
            "5/5 [==============================] - 0s 21ms/step - loss: 0.4975 - accuracy: 0.8106\n",
            "Epoch 14/50\n",
            "5/5 [==============================] - 0s 22ms/step - loss: 0.3727 - accuracy: 0.8636\n",
            "Epoch 15/50\n",
            "5/5 [==============================] - 0s 23ms/step - loss: 0.3756 - accuracy: 0.8788\n",
            "Epoch 16/50\n",
            "5/5 [==============================] - 0s 21ms/step - loss: 0.3326 - accuracy: 0.8864\n",
            "Epoch 17/50\n",
            "5/5 [==============================] - 0s 21ms/step - loss: 0.3660 - accuracy: 0.8636\n",
            "Epoch 18/50\n",
            "5/5 [==============================] - 0s 22ms/step - loss: 0.2839 - accuracy: 0.8788\n",
            "Epoch 19/50\n",
            "5/5 [==============================] - 0s 21ms/step - loss: 0.3106 - accuracy: 0.8788\n",
            "Epoch 20/50\n",
            "5/5 [==============================] - 0s 28ms/step - loss: 0.2777 - accuracy: 0.9318\n",
            "Epoch 21/50\n",
            "5/5 [==============================] - 0s 21ms/step - loss: 0.2931 - accuracy: 0.9091\n",
            "Epoch 22/50\n",
            "5/5 [==============================] - 0s 26ms/step - loss: 0.3044 - accuracy: 0.8939\n",
            "Epoch 23/50\n",
            "5/5 [==============================] - 0s 21ms/step - loss: 0.4564 - accuracy: 0.8333\n",
            "Epoch 24/50\n",
            "5/5 [==============================] - 0s 20ms/step - loss: 0.2352 - accuracy: 0.9318\n",
            "Epoch 25/50\n",
            "5/5 [==============================] - 0s 21ms/step - loss: 0.2259 - accuracy: 0.9394\n",
            "Epoch 26/50\n",
            "5/5 [==============================] - 0s 22ms/step - loss: 0.2586 - accuracy: 0.9167\n",
            "Epoch 27/50\n",
            "5/5 [==============================] - 0s 22ms/step - loss: 0.2336 - accuracy: 0.9394\n",
            "Epoch 28/50\n",
            "5/5 [==============================] - 0s 22ms/step - loss: 0.2030 - accuracy: 0.9394\n",
            "Epoch 29/50\n",
            "5/5 [==============================] - 0s 21ms/step - loss: 0.2215 - accuracy: 0.9242\n",
            "Epoch 30/50\n",
            "5/5 [==============================] - 0s 21ms/step - loss: 0.1388 - accuracy: 0.9697\n",
            "Epoch 31/50\n",
            "5/5 [==============================] - 0s 23ms/step - loss: 0.2014 - accuracy: 0.9545\n",
            "Epoch 32/50\n",
            "5/5 [==============================] - 0s 25ms/step - loss: 0.3164 - accuracy: 0.8864\n",
            "Epoch 33/50\n",
            "5/5 [==============================] - 0s 27ms/step - loss: 0.3054 - accuracy: 0.8636\n",
            "Epoch 34/50\n",
            "5/5 [==============================] - 0s 22ms/step - loss: 0.1642 - accuracy: 0.9470\n",
            "Epoch 35/50\n",
            "5/5 [==============================] - 0s 21ms/step - loss: 0.1064 - accuracy: 0.9924\n",
            "Epoch 36/50\n",
            "5/5 [==============================] - 0s 20ms/step - loss: 0.1274 - accuracy: 0.9697\n",
            "Epoch 37/50\n",
            "5/5 [==============================] - 0s 31ms/step - loss: 0.0761 - accuracy: 0.9773\n",
            "Epoch 38/50\n",
            "5/5 [==============================] - 0s 23ms/step - loss: 0.0605 - accuracy: 0.9848\n",
            "Epoch 39/50\n",
            "5/5 [==============================] - 0s 20ms/step - loss: 0.0457 - accuracy: 0.9924\n",
            "Epoch 40/50\n",
            "5/5 [==============================] - 0s 23ms/step - loss: 0.0322 - accuracy: 1.0000\n",
            "Epoch 41/50\n",
            "5/5 [==============================] - 0s 22ms/step - loss: 0.0301 - accuracy: 0.9924\n",
            "Epoch 42/50\n",
            "5/5 [==============================] - 0s 23ms/step - loss: 0.0261 - accuracy: 0.9924\n",
            "Epoch 43/50\n",
            "5/5 [==============================] - 0s 22ms/step - loss: 0.0227 - accuracy: 1.0000\n",
            "Epoch 44/50\n",
            "5/5 [==============================] - 0s 21ms/step - loss: 0.0220 - accuracy: 0.9924\n",
            "Epoch 45/50\n",
            "5/5 [==============================] - 0s 21ms/step - loss: 0.0116 - accuracy: 1.0000\n",
            "Epoch 46/50\n",
            "5/5 [==============================] - 0s 20ms/step - loss: 0.0160 - accuracy: 1.0000\n",
            "Epoch 47/50\n",
            "5/5 [==============================] - 0s 21ms/step - loss: 0.0089 - accuracy: 1.0000\n",
            "Epoch 48/50\n",
            "5/5 [==============================] - 0s 28ms/step - loss: 0.0061 - accuracy: 1.0000\n",
            "Epoch 49/50\n",
            "5/5 [==============================] - 0s 29ms/step - loss: 0.0061 - accuracy: 1.0000\n",
            "Epoch 50/50\n",
            "5/5 [==============================] - 0s 29ms/step - loss: 0.0045 - accuracy: 1.0000\n"
          ]
        },
        {
          "output_type": "execute_result",
          "data": {
            "text/plain": [
              "<keras.callbacks.History at 0x7f0c67a778d0>"
            ]
          },
          "metadata": {},
          "execution_count": 104
        }
      ]
    },
    {
      "cell_type": "code",
      "source": [
        "# checking on test set\n",
        "X_test_indices = sentences_to_indices(X_test, word_to_index, max_len = maxLen)\n",
        "Y_test_oh = convert_to_one_hot(Y_test, C = 5)\n",
        "loss, acc = model.evaluate(X_test_indices, Y_test_oh)\n",
        "print()\n",
        "print(\"Test accuracy = \", acc)"
      ],
      "metadata": {
        "colab": {
          "base_uri": "https://localhost:8080/"
        },
        "id": "MTs5CIPTzQ8k",
        "outputId": "e20e9ca5-d692-46f0-b1c9-c2ab9a36828c"
      },
      "execution_count": 105,
      "outputs": [
        {
          "output_type": "stream",
          "name": "stdout",
          "text": [
            "2/2 [==============================] - 1s 12ms/step - loss: 0.5099 - accuracy: 0.8929\n",
            "\n",
            "Test accuracy =  0.8928571343421936\n"
          ]
        }
      ]
    },
    {
      "cell_type": "code",
      "source": [
        "# checking with own words\n",
        "x_test = np.array(['I am very happy'])\n",
        "X_test_indices = sentences_to_indices(x_test, word_to_index, maxLen)\n",
        "print(x_test[0] +' '+  label_to_emoji(np.argmax(model.predict(X_test_indices))))"
      ],
      "metadata": {
        "colab": {
          "base_uri": "https://localhost:8080/"
        },
        "id": "5KdbnG_qzaiq",
        "outputId": "0ff65f19-00d2-44ca-c62b-d1e6b09f8470"
      },
      "execution_count": 127,
      "outputs": [
        {
          "output_type": "stream",
          "name": "stdout",
          "text": [
            "1/1 [==============================] - 0s 31ms/step\n",
            "I am very happy 😄\n"
          ]
        }
      ]
    },
    {
      "cell_type": "code",
      "source": [],
      "metadata": {
        "id": "Pp5DBYJN0bwn"
      },
      "execution_count": null,
      "outputs": []
    }
  ]
}